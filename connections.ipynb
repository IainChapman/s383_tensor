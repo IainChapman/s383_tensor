{
 "cells": [
  {
   "cell_type": "code",
   "execution_count": 16,
   "metadata": {},
   "outputs": [],
   "source": [
    "#tidy this up\n",
    "from sympy import Symbol, init_printing, sin, diff, simplify, trigsimp, expand_trig, Function, Derivative\n",
    "from sympy import MutableDenseNDimArray\n",
    "from sympy.matrices import *"
   ]
  },
  {
   "cell_type": "markdown",
   "metadata": {},
   "source": [
    "This line just sets up pretty printing for later."
   ]
  },
  {
   "cell_type": "code",
   "execution_count": 2,
   "metadata": {},
   "outputs": [],
   "source": [
    "init_printing()"
   ]
  },
  {
   "cell_type": "markdown",
   "metadata": {},
   "source": [
    "These are the most commently used coordinate symbols. This should be extended."
   ]
  },
  {
   "cell_type": "code",
   "execution_count": 15,
   "metadata": {},
   "outputs": [],
   "source": [
    "t = Symbol(\"t\")\n",
    "r = Symbol(\"r\")\n",
    "theta = Symbol(\"theta\")\n",
    "phi = Symbol(\"phi\")\n",
    "lamda = Symbol(\"lamda\") #note the spelling!"
   ]
  },
  {
   "cell_type": "markdown",
   "metadata": {},
   "source": [
    "Here is where the heavy lifting is done. Write a metric class which contains the names of the coordinates, a convenience variable storing the number of coordinates, and an array with the metric elements. \n",
    "\n",
    "There are convenience functions to return the dual, derivatives of elements, connection coefficients, and so on.\n",
    "\n",
    "It might make sense to tabulate and store the connections once on instantiation."
   ]
  },
  {
   "cell_type": "code",
   "execution_count": 21,
   "metadata": {},
   "outputs": [],
   "source": [
    "class Metric():\n",
    "    def __init__(self,coordinates):\n",
    "        #initially set up with 1's on diagonal\n",
    "        self.coordinates = coordinates\n",
    "        self.dimension = len(coordinates)\n",
    "        self.array = MutableDenseNDimArray([0] * self.dimension * self.dimension, [self.dimension, self.dimension])\n",
    "        for i in range(self.dimension):\n",
    "            self.array[i,i]=1\n",
    "            \n",
    "    def rank(self):\n",
    "        return self.array.rank()\n",
    "    \n",
    "    def setDiagonal(self, diag):\n",
    "        if len(diag) == self.dimension:\n",
    "            for i in range(self.dimension):\n",
    "                self.array[i,i] = diag[i]\n",
    "        else:\n",
    "            print ('Incorrect number of elements')\n",
    "        \n",
    "    def inverse(self):\n",
    "        return self.array.tomatrix().inv() \n",
    "    \n",
    "    def d(self, i, j, k):\n",
    "        #for convenience - derivative wrt k of i,j'th element\n",
    "        return diff(self.array[i,j], self.coordinates[k])\n",
    "    \n",
    "    def connection(self, m, i, j):\n",
    "        #indices to match MathWorld\n",
    "        sum  = 0\n",
    "        #cache the dual metric - maybe this should be done on instantiation?\n",
    "        dual = self.inverse()\n",
    "        for k in range(self.dimension):\n",
    "            sum += dual[k, m] * (self.d(i,k,j)+ self.d(j,k,i) - self.d(i,j,k))\n",
    "        return simplify(sum / 2)\n",
    "    \n",
    "    def riemann(self, i, j, k, l):\n",
    "        sum = 0\n",
    "        sum += diff (self.connection(i,j,l), self.coordinates[k])\n",
    "        sum -= diff (self.connection(i,j,k), self.coordinates[l])\n",
    "        for m in range(self.dimension):\n",
    "            sum += self.connection(m,j,l)*self.connection(i,m,k)\n",
    "            sum -= self.connection(m,j,k)*self.connection(i,m,l)\n",
    "        return trigsimp(expand_trig(simplify(sum)))\n",
    "    \n",
    "    def ricci(self, i, j):\n",
    "        sum = 0\n",
    "        for m in range(self.dimension):\n",
    "            print (self.riemann(m, i, j, m))\n",
    "            sum += self.riemann(m, i, j, m)\n",
    "        return sum\n",
    "    \n",
    "    def ricci_scalar(self):\n",
    "        sum = 0\n",
    "        dual = self.inverse()\n",
    "        for m in range(self.dimension):\n",
    "            for n in range(self.dimension):\n",
    "                sum += dual[m, n] * self.ricci (m, n)\n",
    "        return trigsimp(expand_trig(simplify(sum)))\n",
    "        \n",
    "    def geodesicEquation(self, i):\n",
    "        myEquation = 0\n",
    "        if i in range(self.dimension):\n",
    "            myEquation += Derivative(self.coordinates[i], lamda, lamda)\n",
    "        return myEquation\n",
    "         "
   ]
  },
  {
   "cell_type": "markdown",
   "metadata": {},
   "source": [
    "Set up plane polars"
   ]
  },
  {
   "cell_type": "code",
   "execution_count": 22,
   "metadata": {},
   "outputs": [],
   "source": [
    "myMetric = Metric([r, theta])"
   ]
  },
  {
   "cell_type": "code",
   "execution_count": 23,
   "metadata": {},
   "outputs": [],
   "source": [
    "myMetric.setDiagonal([1,r**2])"
   ]
  },
  {
   "cell_type": "markdown",
   "metadata": {},
   "source": [
    "Set up spherical polars - watch the convention here"
   ]
  },
  {
   "cell_type": "code",
   "execution_count": 7,
   "metadata": {},
   "outputs": [],
   "source": [
    "myMetric = Metric([r, theta, phi])"
   ]
  },
  {
   "cell_type": "code",
   "execution_count": 8,
   "metadata": {},
   "outputs": [],
   "source": [
    "myMetric.setDiagonal([1, (r * sin(phi))**2,r**2])"
   ]
  },
  {
   "cell_type": "code",
   "execution_count": 9,
   "metadata": {},
   "outputs": [
    {
     "data": {
      "image/png": "[encoded data removed]",
      "text/latex": [
       "$$\\left[\\begin{matrix}1 & 0 & 0\\\\0 & r^{2} \\sin^{2}{\\left (\\phi \\right )} & 0\\\\0 & 0 & r^{2}\\end{matrix}\\right]$$"
      ],
      "text/plain": [
       "⎡1      0       0 ⎤\n",
       "⎢                 ⎥\n",
       "⎢    2    2       ⎥\n",
       "⎢0  r ⋅sin (φ)  0 ⎥\n",
       "⎢                 ⎥\n",
       "⎢                2⎥\n",
       "⎣0      0       r ⎦"
      ]
     },
     "execution_count": 9,
     "metadata": {},
     "output_type": "execute_result"
    }
   ],
   "source": [
    "myMetric.array"
   ]
  },
  {
   "cell_type": "code",
   "execution_count": 10,
   "metadata": {},
   "outputs": [
    {
     "data": {
      "image/png": "[encoded data removed]",
      "text/latex": [
       "$$\\left[\\begin{matrix}1 & 0 & 0\\\\0 & \\frac{1}{r^{2} \\sin^{2}{\\left (\\phi \\right )}} & 0\\\\0 & 0 & \\frac{1}{r^{2}}\\end{matrix}\\right]$$"
      ],
      "text/plain": [
       "⎡1      0       0 ⎤\n",
       "⎢                 ⎥\n",
       "⎢       1         ⎥\n",
       "⎢0  ──────────  0 ⎥\n",
       "⎢    2    2       ⎥\n",
       "⎢   r ⋅sin (φ)    ⎥\n",
       "⎢                 ⎥\n",
       "⎢               1 ⎥\n",
       "⎢0      0       ──⎥\n",
       "⎢                2⎥\n",
       "⎣               r ⎦"
      ]
     },
     "execution_count": 10,
     "metadata": {},
     "output_type": "execute_result"
    }
   ],
   "source": [
    "myMetric.inverse()"
   ]
  },
  {
   "cell_type": "markdown",
   "metadata": {},
   "source": [
    "Choose a connection coefficient at random"
   ]
  },
  {
   "cell_type": "code",
   "execution_count": 13,
   "metadata": {},
   "outputs": [
    {
     "data": {
      "image/png": "[encoded data removed]",
      "text/latex": [
       "$$- r \\sin^{2}{\\left (\\phi \\right )}$$"
      ],
      "text/plain": [
       "      2   \n",
       "-r⋅sin (φ)"
      ]
     },
     "execution_count": 13,
     "metadata": {},
     "output_type": "execute_result"
    }
   ],
   "source": [
    "myMetric.connection(0,1,1)"
   ]
  },
  {
   "cell_type": "code",
   "execution_count": 14,
   "metadata": {},
   "outputs": [
    {
     "name": "stdout",
     "output_type": "stream",
     "text": [
      "adding  0\n",
      "subtracting  0\n",
      "adding  0\n",
      "subtracting  0\n",
      "adding  0\n",
      "subtracting  0\n",
      "adding  0\n",
      "subtracting  0\n"
     ]
    },
    {
     "data": {
      "image/png": "[encoded data removed]",
      "text/latex": [
       "$$0$$"
      ],
      "text/plain": [
       "0"
      ]
     },
     "execution_count": 14,
     "metadata": {},
     "output_type": "execute_result"
    }
   ],
   "source": [
    "myMetric.riemann(0,0,0,1)"
   ]
  },
  {
   "cell_type": "markdown",
   "metadata": {},
   "source": [
    "surface of a sphere"
   ]
  },
  {
   "cell_type": "code",
   "execution_count": 159,
   "metadata": {},
   "outputs": [],
   "source": [
    "myMetric = Metric([theta, phi])"
   ]
  },
  {
   "cell_type": "code",
   "execution_count": 160,
   "metadata": {},
   "outputs": [],
   "source": [
    "myMetric.setDiagonal([r**2, (r * sin(theta))**2])"
   ]
  },
  {
   "cell_type": "code",
   "execution_count": 101,
   "metadata": {},
   "outputs": [
    {
     "data": {
      "image/png": "[encoded data removed]",
      "text/latex": [
       "$$\\left[\\begin{matrix}r^{2} & 0\\\\0 & r^{2} \\sin^{2}{\\left (\\theta \\right )}\\end{matrix}\\right]$$"
      ],
      "text/plain": [
       "⎡ 2            ⎤\n",
       "⎢r       0     ⎥\n",
       "⎢              ⎥\n",
       "⎢     2    2   ⎥\n",
       "⎣0   r ⋅sin (θ)⎦"
      ]
     },
     "execution_count": 101,
     "metadata": {},
     "output_type": "execute_result"
    }
   ],
   "source": [
    "myMetric.array"
   ]
  },
  {
   "cell_type": "code",
   "execution_count": 151,
   "metadata": {},
   "outputs": [
    {
     "data": {
      "image/png": "[encoded data removed]",
      "text/latex": [
       "$$0$$"
      ],
      "text/plain": [
       "0"
      ]
     },
     "execution_count": 151,
     "metadata": {},
     "output_type": "execute_result"
    }
   ],
   "source": [
    "myMetric.connection(0,1,0)"
   ]
  },
  {
   "cell_type": "code",
   "execution_count": 165,
   "metadata": {},
   "outputs": [
    {
     "name": "stdout",
     "output_type": "stream",
     "text": [
      "adding  -cos(2*theta)\n",
      "subtracting  0\n",
      "adding  0\n",
      "subtracting  0\n",
      "adding  0\n",
      "subtracting  -sin(2*theta)/(2*tan(theta))\n"
     ]
    },
    {
     "data": {
      "image/png": "[encoded data removed]",
      "text/latex": [
       "$$\\sin^{2}{\\left (\\theta \\right )}$$"
      ],
      "text/plain": [
       "   2   \n",
       "sin (θ)"
      ]
     },
     "execution_count": 165,
     "metadata": {},
     "output_type": "execute_result"
    }
   ],
   "source": [
    "myMetric.riemann(0,1,0,1)"
   ]
  },
  {
   "cell_type": "code",
   "execution_count": 161,
   "metadata": {},
   "outputs": [
    {
     "name": "stdout",
     "output_type": "stream",
     "text": [
      "adding  (-tan(theta)**2 - 1)/tan(theta)**2\n",
      "subtracting  0\n",
      "adding  0\n",
      "subtracting  0\n",
      "adding  tan(theta)**(-2)\n",
      "subtracting  0\n"
     ]
    },
    {
     "data": {
      "image/png": "[encoded data removed]",
      "text/latex": [
       "$$-1$$"
      ],
      "text/plain": [
       "-1"
      ]
     },
     "execution_count": 161,
     "metadata": {},
     "output_type": "execute_result"
    }
   ],
   "source": [
    "myMetric.riemann(1,0,0,1)"
   ]
  },
  {
   "cell_type": "code",
   "execution_count": 162,
   "metadata": {},
   "outputs": [
    {
     "name": "stdout",
     "output_type": "stream",
     "text": [
      "adding  0\n",
      "subtracting  0\n",
      "adding  0\n",
      "subtracting  0\n",
      "adding  0\n",
      "subtracting  0\n",
      "0\n",
      "adding  0\n",
      "subtracting  0\n",
      "adding  0\n",
      "subtracting  0\n",
      "adding  0\n",
      "subtracting  0\n",
      "adding  (-tan(theta)**2 - 1)/tan(theta)**2\n",
      "subtracting  0\n",
      "adding  0\n",
      "subtracting  0\n",
      "adding  tan(theta)**(-2)\n",
      "subtracting  0\n",
      "-1\n",
      "adding  (-tan(theta)**2 - 1)/tan(theta)**2\n",
      "subtracting  0\n",
      "adding  0\n",
      "subtracting  0\n",
      "adding  tan(theta)**(-2)\n",
      "subtracting  0\n"
     ]
    },
    {
     "data": {
      "image/png": "[encoded data removed]",
      "text/latex": [
       "$$1$$"
      ],
      "text/plain": [
       "1"
      ]
     },
     "execution_count": 162,
     "metadata": {},
     "output_type": "execute_result"
    }
   ],
   "source": [
    "myMetric.ricci(0,0)"
   ]
  },
  {
   "cell_type": "code",
   "execution_count": 131,
   "metadata": {},
   "outputs": [
    {
     "data": {
      "image/png": "[encoded data removed]",
      "text/latex": [
       "$$0$$"
      ],
      "text/plain": [
       "0"
      ]
     },
     "execution_count": 131,
     "metadata": {},
     "output_type": "execute_result"
    }
   ],
   "source": [
    "myMetric.ricci(0,1)"
   ]
  },
  {
   "cell_type": "code",
   "execution_count": 132,
   "metadata": {},
   "outputs": [
    {
     "data": {
      "image/png": "[encoded data removed]",
      "text/latex": [
       "$$0$$"
      ],
      "text/plain": [
       "0"
      ]
     },
     "execution_count": 132,
     "metadata": {},
     "output_type": "execute_result"
    }
   ],
   "source": [
    "myMetric.ricci(1,0)"
   ]
  },
  {
   "cell_type": "code",
   "execution_count": 163,
   "metadata": {},
   "outputs": [
    {
     "name": "stdout",
     "output_type": "stream",
     "text": [
      "adding  0\n",
      "subtracting  -cos(2*theta)\n",
      "adding  0\n",
      "subtracting  0\n",
      "adding  -sin(2*theta)/(2*tan(theta))\n",
      "subtracting  0\n",
      "-sin(theta)**2\n",
      "adding  0\n",
      "subtracting  -cos(2*theta)\n",
      "adding  0\n",
      "subtracting  0\n",
      "adding  -sin(2*theta)/(2*tan(theta))\n",
      "subtracting  0\n",
      "adding  0\n",
      "subtracting  0\n",
      "adding  -sin(2*theta)/(2*tan(theta))\n",
      "subtracting  -sin(2*theta)/(2*tan(theta))\n",
      "adding  0\n",
      "subtracting  0\n",
      "0\n",
      "adding  0\n",
      "subtracting  0\n",
      "adding  -sin(2*theta)/(2*tan(theta))\n",
      "subtracting  -sin(2*theta)/(2*tan(theta))\n",
      "adding  0\n",
      "subtracting  0\n"
     ]
    },
    {
     "data": {
      "image/png": "[encoded data removed]",
      "text/latex": [
       "$$\\sin^{2}{\\left (\\theta \\right )}$$"
      ],
      "text/plain": [
       "   2   \n",
       "sin (θ)"
      ]
     },
     "execution_count": 163,
     "metadata": {},
     "output_type": "execute_result"
    }
   ],
   "source": [
    "myMetric.ricci(1, 1)"
   ]
  },
  {
   "cell_type": "code",
   "execution_count": 164,
   "metadata": {},
   "outputs": [
    {
     "name": "stdout",
     "output_type": "stream",
     "text": [
      "adding  0\n",
      "subtracting  0\n",
      "adding  0\n",
      "subtracting  0\n",
      "adding  0\n",
      "subtracting  0\n",
      "0\n",
      "adding  0\n",
      "subtracting  0\n",
      "adding  0\n",
      "subtracting  0\n",
      "adding  0\n",
      "subtracting  0\n",
      "adding  (-tan(theta)**2 - 1)/tan(theta)**2\n",
      "subtracting  0\n",
      "adding  0\n",
      "subtracting  0\n",
      "adding  tan(theta)**(-2)\n",
      "subtracting  0\n",
      "-1\n",
      "adding  (-tan(theta)**2 - 1)/tan(theta)**2\n",
      "subtracting  0\n",
      "adding  0\n",
      "subtracting  0\n",
      "adding  tan(theta)**(-2)\n",
      "subtracting  0\n",
      "adding  0\n",
      "subtracting  0\n",
      "adding  0\n",
      "subtracting  0\n",
      "adding  0\n",
      "subtracting  0\n",
      "0\n",
      "adding  0\n",
      "subtracting  0\n",
      "adding  0\n",
      "subtracting  0\n",
      "adding  0\n",
      "subtracting  0\n",
      "adding  0\n",
      "subtracting  0\n",
      "adding  0\n",
      "subtracting  0\n",
      "adding  0\n",
      "subtracting  0\n",
      "0\n",
      "adding  0\n",
      "subtracting  0\n",
      "adding  0\n",
      "subtracting  0\n",
      "adding  0\n",
      "subtracting  0\n",
      "adding  0\n",
      "subtracting  0\n",
      "adding  0\n",
      "subtracting  0\n",
      "adding  0\n",
      "subtracting  0\n",
      "0\n",
      "adding  0\n",
      "subtracting  0\n",
      "adding  0\n",
      "subtracting  0\n",
      "adding  0\n",
      "subtracting  0\n",
      "adding  0\n",
      "subtracting  0\n",
      "adding  0\n",
      "subtracting  0\n",
      "adding  0\n",
      "subtracting  0\n",
      "0\n",
      "adding  0\n",
      "subtracting  0\n",
      "adding  0\n",
      "subtracting  0\n",
      "adding  0\n",
      "subtracting  0\n",
      "adding  0\n",
      "subtracting  -cos(2*theta)\n",
      "adding  0\n",
      "subtracting  0\n",
      "adding  -sin(2*theta)/(2*tan(theta))\n",
      "subtracting  0\n",
      "-sin(theta)**2\n",
      "adding  0\n",
      "subtracting  -cos(2*theta)\n",
      "adding  0\n",
      "subtracting  0\n",
      "adding  -sin(2*theta)/(2*tan(theta))\n",
      "subtracting  0\n",
      "adding  0\n",
      "subtracting  0\n",
      "adding  -sin(2*theta)/(2*tan(theta))\n",
      "subtracting  -sin(2*theta)/(2*tan(theta))\n",
      "adding  0\n",
      "subtracting  0\n",
      "0\n",
      "adding  0\n",
      "subtracting  0\n",
      "adding  -sin(2*theta)/(2*tan(theta))\n",
      "subtracting  -sin(2*theta)/(2*tan(theta))\n",
      "adding  0\n",
      "subtracting  0\n"
     ]
    },
    {
     "data": {
      "image/png": "[encoded data removed]",
      "text/latex": [
       "$$\\frac{2}{r^{2}}$$"
      ],
      "text/plain": [
       "2 \n",
       "──\n",
       " 2\n",
       "r "
      ]
     },
     "execution_count": 164,
     "metadata": {},
     "output_type": "execute_result"
    }
   ],
   "source": [
    "myMetric.ricci_scalar()"
   ]
  },
  {
   "cell_type": "code",
   "execution_count": 167,
   "metadata": {},
   "outputs": [
    {
     "name": "stdout",
     "output_type": "stream",
     "text": [
      "0\n",
      "1\n"
     ]
    }
   ],
   "source": [
    "sum = 0\n",
    "for i in range(0,2):\n",
    "    sum += myMetric.array[i]"
   ]
  },
  {
   "cell_type": "code",
   "execution_count": 24,
   "metadata": {},
   "outputs": [
    {
     "name": "stdout",
     "output_type": "stream",
     "text": [
      "Derivative(r, lamda, lamda)\n"
     ]
    }
   ],
   "source": [
    "print (myMetric.geodesicEquation(0))"
   ]
  },
  {
   "cell_type": "code",
   "execution_count": null,
   "metadata": {},
   "outputs": [],
   "source": []
  }
 ],
 "metadata": {
  "kernelspec": {
   "display_name": "Python 3",
   "language": "python",
   "name": "python3"
  },
  "language_info": {
   "codemirror_mode": {
    "name": "ipython",
    "version": 3
   },
   "file_extension": ".py",
   "mimetype": "text/x-python",
   "name": "python",
   "nbconvert_exporter": "python",
   "pygments_lexer": "ipython3",
   "version": "3.6.5"
  }
 },
 "nbformat": 4,
 "nbformat_minor": 2
}
